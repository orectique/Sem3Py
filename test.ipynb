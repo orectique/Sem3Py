{
 "cells": [
  {
   "cell_type": "code",
   "execution_count": 11,
   "id": "4490fe05-fb7a-4df5-996d-140cfc699891",
   "metadata": {},
   "outputs": [],
   "source": [
    "from src.Sem3Py.Numerical import Interpolation as intp\n",
    "\n",
    "import numpy as np"
   ]
  },
  {
   "cell_type": "code",
   "execution_count": 12,
   "id": "124a6ecf-9cc6-47c6-bb76-63ddb6bfa844",
   "metadata": {},
   "outputs": [],
   "source": [
    "x = [8, 9, 9.5, 11]\n",
    "y = [2.079422, 2.197225, 2.251292, 2.3979]"
   ]
  },
  {
   "cell_type": "code",
   "execution_count": 13,
   "id": "241ec58e-02ec-45c6-a4fe-30646129386c",
   "metadata": {},
   "outputs": [],
   "source": [
    "k = intp(x, y)"
   ]
  },
  {
   "cell_type": "code",
   "execution_count": 15,
   "id": "cd648ca2-084b-42e8-a587-5114e39a3146",
   "metadata": {},
   "outputs": [
    {
     "data": {
      "text/plain": [
       "2.2192085999999995"
      ]
     },
     "execution_count": 15,
     "metadata": {},
     "output_type": "execute_result"
    }
   ],
   "source": [
    "k.lagrange(9.2)"
   ]
  },
  {
   "cell_type": "code",
   "execution_count": 16,
   "id": "318772bc-e6e2-412a-bfe1-78416bcf9a05",
   "metadata": {},
   "outputs": [],
   "source": [
    "cf, p = k.newton_dd(9.2)"
   ]
  },
  {
   "cell_type": "code",
   "execution_count": 17,
   "id": "6614c85f-acd7-4686-8b9a-3c47134ff996",
   "metadata": {},
   "outputs": [
    {
     "name": "stdout",
     "output_type": "stream",
     "text": [
      "[[ 2.07942200e+00  1.17803000e-01 -6.44600000e-03  4.16111111e-04]\n",
      " [ 2.19722500e+00  1.08134000e-01 -5.19766667e-03  0.00000000e+00]\n",
      " [ 2.25129200e+00  9.77386667e-02  0.00000000e+00  0.00000000e+00]\n",
      " [ 2.39790000e+00  0.00000000e+00  0.00000000e+00  0.00000000e+00]] 2.2192085999999995\n"
     ]
    }
   ],
   "source": [
    "print(cf, p)"
   ]
  },
  {
   "cell_type": "code",
   "execution_count": 4,
   "id": "b956b75f",
   "metadata": {},
   "outputs": [],
   "source": [
    "import numpy as np\n"
   ]
  },
  {
   "cell_type": "code",
   "execution_count": 14,
   "id": "1740c2c4",
   "metadata": {},
   "outputs": [
    {
     "data": {
      "text/plain": [
       "[2.06, 4.34, 7.06, 2.78, 6.25, 8.72, 2.81, 5.66, 9.56]"
      ]
     },
     "execution_count": 14,
     "metadata": {},
     "output_type": "execute_result"
    }
   ],
   "source": [
    "u5 = lambda funcs: (funcs[1] + funcs[3] + funcs[4] + funcs[6])/4\n",
    "\n",
    "u7 = lambda funcs: (funcs[3] + funcs[6] + 1)/4\n",
    "\n",
    "u9 = lambda funcs: (funcs[5] + funcs[7] + 23)/4\n",
    "\n",
    "u1 = lambda funcs: (funcs[2] + funcs[0] + 0.5)/4\n",
    "\n",
    "u3 = lambda funcs: (funcs[1] + funcs[4] + 14.5)/4\n",
    "\n",
    "u2 = lambda funcs: (funcs[0] + funcs[1] + funcs[3] + 2)/4\n",
    "\n",
    "u4 = lambda funcs: (funcs[0] + funcs[3] + funcs[5])/4\n",
    "\n",
    "u6 = lambda funcs: (funcs[2] + funcs[7] + funcs[4] + 12)/4\n",
    "\n",
    "u8 = lambda funcs: (funcs[6] + funcs[7] + funcs[4] + 4)/4\n",
    "\n",
    "\n",
    "\n",
    "funcs = [u1, u2, u3, u4, u5, u6, u7, u8, u9]\n",
    "init = [33/16, 278/64, 113/16, 178/64, 25/4, 558/64, 45/16, 362/64, 153/16]\n",
    "init\n"
   ]
  },
  {
   "cell_type": "code",
   "execution_count": 17,
   "id": "3932524d",
   "metadata": {},
   "outputs": [],
   "source": [
    "u1 = lambda funcs: (funcs[0] + funcs[1] + 3)/4\n",
    "u2 = lambda funcs: (funcs[0] + funcs[2] + 16)/4\n",
    "u3 = lambda funcs: (funcs[0] + funcs[2] + 4)/4\n",
    "u4 = lambda funcs: (funcs[1] + funcs[2] + 19)/4\n",
    "\n",
    "funcs = [u1, u2, u3, u4]\n",
    "init = [0, 0, 0, 0]"
   ]
  },
  {
   "cell_type": "code",
   "execution_count": 18,
   "id": "0f46e333",
   "metadata": {},
   "outputs": [
    {
     "name": "stdout",
     "output_type": "stream",
     "text": [
      "[[0.   0.   0.   0.  ]\n",
      " [0.75 4.   1.   4.75]\n",
      " [2.   5.38 2.38 6.  ]\n",
      " [2.69 6.   3.   6.69]\n",
      " [3.   6.34 3.34 7.  ]\n",
      " [3.17 6.5  3.5  7.17]\n",
      " [3.25 6.59 3.59 7.25]\n",
      " [3.29 6.62 3.62 7.29]\n",
      " [3.31 6.65 3.65 7.31]]\n"
     ]
    }
   ],
   "source": [
    "delta = 0.01\n",
    "%precision 2\n",
    "\n",
    "\n",
    "arr1 = init\n",
    "arr2 = init\n",
    "flag = False\n",
    "itn = 1\n",
    "temp = []\n",
    "        \n",
    "while len(temp) < len(arr1):\n",
    "\n",
    "                \n",
    "    temp_arr2 = []\n",
    "    for i in range(len(funcs)):\n",
    "        temp_arr = []\n",
    "        for j in range(len(funcs)):\n",
    "            if i != j:\n",
    "                temp_arr.append(arr1[j])\n",
    "                \n",
    "        temp_arr2.append(funcs[i](temp_arr))\n",
    "                               \n",
    "    arr2 = np.vstack([arr2, np.around(temp_arr2, decimals=2)])\n",
    "    arr1 = temp_arr2\n",
    "                        \n",
    "    ls = [abs((arr2[itn, i] - arr2[itn-1, i])/arr2[itn, i]) for i in range(len(arr1))]\n",
    "\n",
    "    temp = []\n",
    "\n",
    "    for val in ls:\n",
    "        if val < delta:\n",
    "            temp.append(0)\n",
    "                    \n",
    "    itn += 1\n",
    "\n",
    "print(arr2)"
   ]
  },
  {
   "cell_type": "code",
   "execution_count": null,
   "id": "1dbfbba5",
   "metadata": {},
   "outputs": [],
   "source": []
  }
 ],
 "metadata": {
  "kernelspec": {
   "display_name": "Python 3 (ipykernel)",
   "language": "python",
   "name": "python3"
  },
  "language_info": {
   "codemirror_mode": {
    "name": "ipython",
    "version": 3
   },
   "file_extension": ".py",
   "mimetype": "text/x-python",
   "name": "python",
   "nbconvert_exporter": "python",
   "pygments_lexer": "ipython3",
   "version": "3.9.4"
  }
 },
 "nbformat": 4,
 "nbformat_minor": 5
}
