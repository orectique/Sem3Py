{
 "cells": [
  {
   "cell_type": "code",
   "execution_count": 11,
   "id": "4490fe05-fb7a-4df5-996d-140cfc699891",
   "metadata": {},
   "outputs": [],
   "source": [
    "from src.Sem3Py.Numerical import Interpolation as intp\n",
    "\n",
    "import numpy as np"
   ]
  },
  {
   "cell_type": "code",
   "execution_count": 12,
   "id": "124a6ecf-9cc6-47c6-bb76-63ddb6bfa844",
   "metadata": {},
   "outputs": [],
   "source": [
    "x = [8, 9, 9.5, 11]\n",
    "y = [2.079422, 2.197225, 2.251292, 2.3979]"
   ]
  },
  {
   "cell_type": "code",
   "execution_count": 13,
   "id": "241ec58e-02ec-45c6-a4fe-30646129386c",
   "metadata": {},
   "outputs": [],
   "source": [
    "k = intp(x, y)"
   ]
  },
  {
   "cell_type": "code",
   "execution_count": 15,
   "id": "cd648ca2-084b-42e8-a587-5114e39a3146",
   "metadata": {},
   "outputs": [
    {
     "data": {
      "text/plain": [
       "2.2192085999999995"
      ]
     },
     "execution_count": 15,
     "metadata": {},
     "output_type": "execute_result"
    }
   ],
   "source": [
    "k.lagrange(9.2)"
   ]
  },
  {
   "cell_type": "code",
   "execution_count": 16,
   "id": "318772bc-e6e2-412a-bfe1-78416bcf9a05",
   "metadata": {},
   "outputs": [],
   "source": [
    "cf, p = k.newton_dd(9.2)"
   ]
  },
  {
   "cell_type": "code",
   "execution_count": 17,
   "id": "6614c85f-acd7-4686-8b9a-3c47134ff996",
   "metadata": {},
   "outputs": [
    {
     "name": "stdout",
     "output_type": "stream",
     "text": [
      "[[ 2.07942200e+00  1.17803000e-01 -6.44600000e-03  4.16111111e-04]\n",
      " [ 2.19722500e+00  1.08134000e-01 -5.19766667e-03  0.00000000e+00]\n",
      " [ 2.25129200e+00  9.77386667e-02  0.00000000e+00  0.00000000e+00]\n",
      " [ 2.39790000e+00  0.00000000e+00  0.00000000e+00  0.00000000e+00]] 2.2192085999999995\n"
     ]
    }
   ],
   "source": [
    "print(cf, p)"
   ]
  },
  {
   "cell_type": "code",
   "execution_count": 12,
   "id": "1740c2c4",
   "metadata": {},
   "outputs": [],
   "source": [
    "u5 = lambda funcs: (25)/4\n",
    "\n",
    "u7 = lambda funcs: (funcs[4] + 5)/4\n",
    "\n",
    "u9 = lambda funcs: (funcs[4] + 32)/4\n",
    "\n",
    "u1 = lambda funcs: (funcs[3] + 2)/4\n",
    "\n",
    "u3 = lambda funcs: (funcs[3] + 22)/4\n",
    "\n",
    "u2 = lambda funcs: (funcs[0] + funcs[1] + funcs[3] + 2)/4\n",
    "\n",
    "u4 = lambda funcs: (funcs[0] + funcs[3] + funcs[5] + 0)/4\n",
    "\n",
    "u6 = lambda funcs: (funcs[2] + funcs[7] + funcs[4] + 12)/4\n",
    "\n",
    "u8 = lambda funcs: (funcs[6] + funcs[7] + funcs[4] + 4)/4\n",
    "\n",
    "\n",
    "\n",
    "funcs = [u1, u2, u3, u4, u5, u6, u7, u8, u9]"
   ]
  },
  {
   "cell_type": "code",
   "execution_count": 13,
   "id": "16475939",
   "metadata": {},
   "outputs": [],
   "source": [
    "from src.Sem3Py.Numerical import Solutions as sln"
   ]
  },
  {
   "cell_type": "code",
   "execution_count": 18,
   "id": "73f3d73f",
   "metadata": {},
   "outputs": [
    {
     "name": "stdout",
     "output_type": "stream",
     "text": [
      "[[2.06 4.34 7.06 2.78 6.25 8.72 2.81 5.66 9.56]\n",
      " [2.06 4.34 7.06 2.78 6.25 8.72 2.81 5.66 9.56]]\n"
     ]
    }
   ],
   "source": [
    "k = sln([], [])\n",
    "\n",
    "#%precision 2\n",
    "\n",
    "print(k.gauss_seidel(funcs, [33/16, 278/64, 113/16, 178/64, 25/4, 558/64, 45/16, 362/64, 153/16], 0.01))"
   ]
  },
  {
   "cell_type": "code",
   "execution_count": null,
   "id": "0f46e333",
   "metadata": {},
   "outputs": [],
   "source": []
  }
 ],
 "metadata": {
  "kernelspec": {
   "display_name": "Python 3 (ipykernel)",
   "language": "python",
   "name": "python3"
  },
  "language_info": {
   "codemirror_mode": {
    "name": "ipython",
    "version": 3
   },
   "file_extension": ".py",
   "mimetype": "text/x-python",
   "name": "python",
   "nbconvert_exporter": "python",
   "pygments_lexer": "ipython3",
   "version": "3.9.4"
  }
 },
 "nbformat": 4,
 "nbformat_minor": 5
}
