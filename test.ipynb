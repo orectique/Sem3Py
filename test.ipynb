{
 "cells": [
  {
   "cell_type": "code",
   "execution_count": 2,
   "id": "df283e3f",
   "metadata": {},
   "outputs": [],
   "source": [
    "import math\n",
    "from src.Sem3Py.Optimization import Optimize as opt"
   ]
  },
  {
   "cell_type": "code",
   "execution_count": 4,
   "id": "413f6f82",
   "metadata": {},
   "outputs": [
    {
     "data": {
      "text/plain": [
       "array([[0.        , 0.        , 0.38196601, 0.61803399, 1.        ],\n",
       "       [1.        , 0.38196601, 0.61803399, 0.38196601, 1.        ],\n",
       "       [2.        , 0.38196601, 0.38196601, 0.61803399, 0.38196601]])"
      ]
     },
     "execution_count": 4,
     "metadata": {},
     "output_type": "execute_result"
    }
   ],
   "source": [
    "func = lambda x: math.exp(-x) - math.cos(x)\n",
    "\n",
    "k = opt(func)\n",
    "\n",
    "#k.fibonacci(0, 1, 10)\n",
    "k.golden_search(0, 1, 10)\n",
    "\n"
   ]
  },
  {
   "cell_type": "code",
   "execution_count": 11,
   "id": "89bd0a72",
   "metadata": {},
   "outputs": [
    {
     "data": {
      "text/plain": [
       "array([[ 0.00000e+00,  1.06241e+00, -2.23457e-03, -2.61158e+00,\n",
       "         8.55638e-04],\n",
       "       [ 1.00000e+00,  1.06155e+00, -4.12405e-07, -2.61062e+00,\n",
       "         1.57972e-07],\n",
       "       [ 2.00000e+00,  1.06155e+00, -1.43219e-14, -2.61062e+00,\n",
       "         5.48601e-15]])"
      ]
     },
     "execution_count": 11,
     "metadata": {},
     "output_type": "execute_result"
    }
   ],
   "source": [
    "#108x+8y+2x^2+2xy+y^2\n",
    "\n",
    "fun = lambda x, y: 108*x + 8*y \n",
    "df = lambda x, y: 2 - x**2 - math.sin(x)\n",
    "ddf = lambda x, y: -2*x - math.cos(x)\n",
    "%precision 5\n",
    "l = opt(fun, df, ddf)\n",
    "l.newton(1.0, delta = 1e-7)"
   ]
  },
  {
   "cell_type": "code",
   "execution_count": null,
   "id": "ef17159e",
   "metadata": {},
   "outputs": [],
   "source": []
  }
 ],
 "metadata": {
  "kernelspec": {
   "display_name": "Python 3 (ipykernel)",
   "language": "python",
   "name": "python3"
  },
  "language_info": {
   "codemirror_mode": {
    "name": "ipython",
    "version": 3
   },
   "file_extension": ".py",
   "mimetype": "text/x-python",
   "name": "python",
   "nbconvert_exporter": "python",
   "pygments_lexer": "ipython3",
   "version": "3.9.4"
  }
 },
 "nbformat": 4,
 "nbformat_minor": 5
}
