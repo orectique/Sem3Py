{
 "cells": [
  {
   "cell_type": "code",
   "execution_count": 1,
   "id": "888d4dd4-5ec5-4d9a-a69d-b0bf5a7f8163",
   "metadata": {},
   "outputs": [
    {
     "name": "stdout",
     "output_type": "stream",
     "text": [
      "14.666666666666666\n"
     ]
    }
   ],
   "source": [
    "from src.Sem3Py.Numerical import Interpolation as itp\n",
    "\n",
    "arr_a = [ 5, 6, 9, 11]\n",
    "arr_b = [12, 13, 14, 16]\n",
    "k = itp(arr_a, arr_b)\n",
    "print(k.lagrange(10))"
   ]
  },
  {
   "cell_type": "code",
   "execution_count": 1,
   "id": "232b238f-0f93-42a8-93b9-9c5fed438dca",
   "metadata": {},
   "outputs": [
    {
     "name": "stdout",
     "output_type": "stream",
     "text": [
      "(array([[1.        , 0.        , 0.        ],\n",
      "       [1.        , 1.        , 0.        ],\n",
      "       [3.33333333, 5.        , 1.        ]]), array([[6.        , 3.        , 2.        ],\n",
      "       [0.        , 1.        , 1.        ],\n",
      "       [0.        , 0.        , 0.33333333]]))\n",
      "[  9. -36.  30.]\n"
     ]
    }
   ],
   "source": [
    "from src.Sem3Py.Numerical import Solutions as sln\n",
    "\n",
    "arr_a = [[ 6, 3, 2], [ 6, 4, 3], [ 20, 15, 12]]\n",
    "arr_b = [ 6, 0, 0]\n",
    "\n",
    "k = sln(arr_a, arr_b)\n",
    "print(k.LUdecomp())\n",
    "print(k.LUsolve())"
   ]
  },
  {
   "cell_type": "code",
   "execution_count": 2,
   "id": "c1e31290-04ae-4248-b224-4dd6532b7c75",
   "metadata": {},
   "outputs": [
    {
     "name": "stdout",
     "output_type": "stream",
     "text": [
      "0.25\n"
     ]
    }
   ],
   "source": [
    "from src.Sem3Py.Numerical import Solutions as sln\n",
    "\n",
    "a = lambda l: (1 - 3*l[0] + 5*l[1])/12\n",
    "b = lambda l: (28 - l[0] - 3*l[1])/5\n",
    "c = lambda l: (76 - 3*l[0] -7*l[1])/13\n",
    "\n",
    "ls = [a, b, c]\n",
    "lt = [1, 1]\n",
    "\n",
    "print(ls[0](lt))"
   ]
  },
  {
   "cell_type": "code",
   "execution_count": 3,
   "id": "3624014b-3746-4814-a4b6-7d81bb4a3de3",
   "metadata": {},
   "outputs": [
    {
     "name": "stdout",
     "output_type": "stream",
     "text": [
      "[[0.         0.         0.        ]\n",
      " [0.08333333 5.6        5.84615385]\n",
      " [1.11923077 2.07564103 2.81153846]\n",
      " [0.73589744 3.68923077 4.47021696]\n",
      " [1.02361604 2.77069034 3.68982249]\n",
      " [0.92808679 3.1813833  4.11802458]\n",
      " [1.00383108 2.9435679  3.91892743]\n",
      " [0.98032779 3.04787733 4.02950242]\n",
      " [1.00032334 2.98623299 3.97875964]\n",
      " [0.9945916  3.01267955 4.00733839]]\n"
     ]
    }
   ],
   "source": [
    "k = sln(arr_a, arr_b)\n",
    "print(k.gauss_seidel(ls, [0, 0, 0]))"
   ]
  },
  {
   "cell_type": "code",
   "execution_count": 9,
   "id": "60701f09-d68b-4a93-a862-41051b5e93b2",
   "metadata": {},
   "outputs": [
    {
     "name": "stdout",
     "output_type": "stream",
     "text": [
      "53\n"
     ]
    }
   ],
   "source": [
    "k = lambda l: l[0] + 5*l[1]\n",
    "\n",
    "p = [8, 9]\n",
    "print(k(p))"
   ]
  },
  {
   "cell_type": "code",
   "execution_count": null,
   "id": "48a0c27d-9e36-47e4-a967-46d22a7b3d6e",
   "metadata": {},
   "outputs": [],
   "source": []
  }
 ],
 "metadata": {
  "kernelspec": {
   "display_name": "Python 3 (ipykernel)",
   "language": "python",
   "name": "python3"
  },
  "language_info": {
   "codemirror_mode": {
    "name": "ipython",
    "version": 3
   },
   "file_extension": ".py",
   "mimetype": "text/x-python",
   "name": "python",
   "nbconvert_exporter": "python",
   "pygments_lexer": "ipython3",
   "version": "3.8.11"
  }
 },
 "nbformat": 4,
 "nbformat_minor": 5
}
