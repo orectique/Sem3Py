{
 "cells": [
  {
   "cell_type": "code",
   "execution_count": 15,
   "id": "ef17159e",
   "metadata": {},
   "outputs": [],
   "source": [
    "from src.Sem3Py.Numerical import O_D_E as ode"
   ]
  },
  {
   "cell_type": "code",
   "execution_count": 17,
   "id": "76e02cce",
   "metadata": {},
   "outputs": [
    {
     "name": "stdout",
     "output_type": "stream",
     "text": [
      "[(0.15, 0.15113459067975255), (0.3, 0.30933513999559237)]\n"
     ]
    }
   ],
   "source": [
    "func = lambda x, y: 1 + y**2\n",
    "\n",
    "k = ode(func, 0, 0)\n",
    "\n",
    "print(k.runge_kutta4(0.3, h = 0.15))"
   ]
  },
  {
   "cell_type": "code",
   "execution_count": 1,
   "id": "bdbe9312",
   "metadata": {},
   "outputs": [],
   "source": [
    "from src.Sem3Py.Numerical import Roots"
   ]
  },
  {
   "cell_type": "code",
   "execution_count": 10,
   "id": "cd66f618",
   "metadata": {},
   "outputs": [
    {
     "name": "stdout",
     "output_type": "stream",
     "text": [
      "[[ 2.00000e+00  3.00000e+00  2.50000e+00 -3.37500e+00]\n",
      " [ 2.50000e+00  3.00000e+00  2.75000e+00  7.96875e-01]\n",
      " [ 2.50000e+00  2.75000e+00  2.62500e+00 -1.41211e+00]\n",
      " [ 2.62500e+00  2.75000e+00  2.68750e+00 -3.39111e-01]\n",
      " [ 2.68750e+00  2.75000e+00  2.71875e+00  2.20917e-01]\n",
      " [ 2.68750e+00  2.71875e+00  2.70312e+00 -6.10771e-02]\n",
      " [ 2.70312e+00  2.71875e+00  2.71094e+00  7.94234e-02]\n",
      " [ 2.70312e+00  2.71094e+00  2.70703e+00  9.04924e-03]\n",
      " [ 2.70312e+00  2.70703e+00  2.70508e+00 -2.60449e-02]\n",
      " [ 2.70508e+00  2.70703e+00  2.70605e+00 -8.50557e-03]\n",
      " [ 2.70605e+00  2.70703e+00  2.70654e+00  2.69896e-04]\n",
      " [ 2.70605e+00  2.70654e+00  2.70630e+00 -4.11832e-03]\n",
      " [ 2.70630e+00  2.70654e+00  2.70642e+00 -1.92433e-03]\n",
      " [ 2.70642e+00  2.70654e+00  2.70648e+00 -8.27249e-04]\n",
      " [ 2.70648e+00  2.70654e+00  2.70651e+00 -2.78684e-04]\n",
      " [ 2.70651e+00  2.70654e+00  2.70653e+00 -4.39577e-06]\n",
      " [ 2.70653e+00  2.70654e+00  2.70654e+00  1.32750e-04]\n",
      " [ 2.70653e+00  2.70654e+00  2.70653e+00  6.41769e-05]\n",
      " [ 2.70653e+00  2.70653e+00  2.70653e+00  2.98905e-05]\n",
      " [ 2.70653e+00  2.70653e+00  2.70653e+00  1.27474e-05]]\n"
     ]
    }
   ],
   "source": [
    "func = lambda x: x**3 - 4*x - 9\n",
    "\n",
    "k = Roots(func)\n",
    "\n",
    "\n",
    "print(k.bisection(2, 3))"
   ]
  },
  {
   "cell_type": "code",
   "execution_count": 3,
   "id": "4f887fa6",
   "metadata": {},
   "outputs": [],
   "source": [
    "from src.Sem3Py.Numerical import Solutions"
   ]
  },
  {
   "cell_type": "code",
   "execution_count": 8,
   "id": "a5a77d05",
   "metadata": {},
   "outputs": [
    {
     "data": {
      "text/plain": [
       "array([[0.     , 0.     , 0.     ],\n",
       "       [1.     , 1.4    , 1.     ],\n",
       "       [0.15   , 0.6    , 0.2    ],\n",
       "       [0.75   , 1.27   , 0.75   ],\n",
       "       [0.3075 , 0.8    , 0.32667],\n",
       "       [0.63667, 1.15017, 0.63083],\n",
       "       [0.39704, 0.89183, 0.40439],\n",
       "       [0.57485, 1.0809 , 0.57037],\n",
       "       [0.44459, 0.94102, 0.44809],\n",
       "       [0.5407 , 1.04363, 0.53813],\n",
       "       [0.47003, 0.96795, 0.47189],\n",
       "       [0.52207, 1.02361, 0.52067],\n",
       "       [0.48376, 0.98262, 0.48478],\n",
       "       [0.51196, 1.01279, 0.5112 ],\n",
       "       [0.4912 , 0.99059, 0.49175],\n",
       "       [0.50648, 1.00693, 0.50607],\n",
       "       [0.49523, 0.9949 , 0.49553],\n",
       "       [0.50351, 1.00375, 0.50329],\n",
       "       [0.49742, 0.99724, 0.49758],\n",
       "       [0.5019 , 1.00203, 0.50178],\n",
       "       [0.4986 , 0.9985 , 0.49869],\n",
       "       [0.50103, 1.0011 , 0.50097],\n",
       "       [0.49924, 0.99919, 0.49929],\n",
       "       [0.50056, 1.0006 , 0.50052],\n",
       "       [0.49959, 0.99956, 0.49961],\n",
       "       [0.5003 , 1.00032, 0.50028]])"
      ]
     },
     "execution_count": 8,
     "metadata": {},
     "output_type": "execute_result"
    }
   ],
   "source": [
    "x = lambda l: (4 - l[0] - 2*l[1])/4\n",
    "y = lambda l: (7 - 3*l[0] - l[1])/5\n",
    "z = lambda l: (3 - l[0] - l[1])/3\n",
    "\n",
    "ls = [x, y, z]\n",
    "%precision 5\n",
    "k = Solutions([], [])\n",
    "k.gauss_seidel(ls, [0, 0, 0], delta = 0.001)"
   ]
  },
  {
   "cell_type": "code",
   "execution_count": 13,
   "id": "f6ceaef6",
   "metadata": {},
   "outputs": [],
   "source": [
    "from src.Sem3Py.Numerical import Interpolation\n"
   ]
  },
  {
   "cell_type": "code",
   "execution_count": 22,
   "id": "6880cf88",
   "metadata": {},
   "outputs": [
    {
     "name": "stdout",
     "output_type": "stream",
     "text": [
      "0.6227941176470588\n"
     ]
    }
   ],
   "source": [
    "func = lambda x: 1/(1 + x**2)\n",
    "\n",
    "a = [0, 0.25, 0.5, 1]\n",
    "b = []\n",
    "for x in a:\n",
    "    b.append(func(x))\n",
    "\n",
    "k = Interpolation(a, b)\n",
    "\n",
    "print(k.trapezoidal(h=0.25))"
   ]
  },
  {
   "cell_type": "code",
   "execution_count": null,
   "id": "dbd032d7",
   "metadata": {},
   "outputs": [],
   "source": []
  }
 ],
 "metadata": {
  "kernelspec": {
   "display_name": "Python 3 (ipykernel)",
   "language": "python",
   "name": "python3"
  },
  "language_info": {
   "codemirror_mode": {
    "name": "ipython",
    "version": 3
   },
   "file_extension": ".py",
   "mimetype": "text/x-python",
   "name": "python",
   "nbconvert_exporter": "python",
   "pygments_lexer": "ipython3",
   "version": "3.9.4"
  }
 },
 "nbformat": 4,
 "nbformat_minor": 5
}
